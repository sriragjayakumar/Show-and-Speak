{
  "cells": [
    {
      "cell_type": "markdown",
      "source": [
        "# Generate Bottom-up-Features using Detection Transformer (DETR)"
      ],
      "metadata": {
        "id": "-3UMn8eR4oID"
      }
    },
    {
      "cell_type": "code",
      "execution_count": null,
      "metadata": {
        "id": "HehQcvK-fYOO"
      },
      "outputs": [],
      "source": [
        "!pip install -q git+https://github.com/huggingface/transformers.git timm"
      ]
    },
    {
      "cell_type": "code",
      "execution_count": null,
      "metadata": {
        "id": "bFUS-KuVzE2U"
      },
      "outputs": [],
      "source": [
        "import glob,os\n",
        "from google.colab import drive\n",
        "drive.mount('/content/drive')\n",
        "!unzip '/content/drive/MyDrive/images.zip'"
      ]
    },
    {
      "cell_type": "code",
      "execution_count": null,
      "metadata": {
        "id": "wgRpqB4MR4M1"
      },
      "outputs": [],
      "source": [
        "from transformers import DetrFeatureExtractor, DetrForObjectDetection,DetrConfig,pipeline\n",
        "import numpy as np\n",
        "import torch\n",
        "from PIL import Image\n",
        "import requests"
      ]
    },
    {
      "cell_type": "code",
      "execution_count": null,
      "metadata": {
        "colab": {
          "base_uri": "https://localhost:8080/",
          "height": 87,
          "referenced_widgets": [
            "8cf8177c46604865af50cd906ac1023b",
            "a8d05227e47d4a10a60d49535a742df7",
            "e6b48c602b5e436bbb9829ade6b0e1af",
            "39a3cc28da45418185515d1896577091",
            "ce91fe3362b44fefaecadca4c8dabb2d",
            "baefc4e34439473b917f53f64a8085e7",
            "a826be6be2734d699adc72735df1997c",
            "2116b1d937a74c88a7ce80ca778285f2",
            "858237b564ff4d47b5187dfba4e63c29",
            "1850876748eb42be8bfa45842d2f1113",
            "80490682e3234693bdc99ed6e99bab6a"
          ]
        },
        "id": "E3RtchJJnJSa",
        "outputId": "280de9bd-919e-4cc5-b5a7-b8a6e7b027c4"
      },
      "outputs": [
        {
          "name": "stderr",
          "output_type": "stream",
          "text": [
            "Downloading: \"https://github.com/rwightman/pytorch-image-models/releases/download/v0.1-rsb-weights/resnet50_a1_0-14fe96d1.pth\" to /root/.cache/torch/hub/checkpoints/resnet50_a1_0-14fe96d1.pth\n"
          ]
        },
        {
          "data": {
            "application/vnd.jupyter.widget-view+json": {
              "model_id": "8cf8177c46604865af50cd906ac1023b",
              "version_major": 2,
              "version_minor": 0
            },
            "text/plain": [
              "Downloading:   0%|          | 0.00/274 [00:00<?, ?B/s]"
            ]
          },
          "metadata": {},
          "output_type": "display_data"
        }
      ],
      "source": [
        "config=DetrConfig(num_queries = 36,d_model = 2048) # 36 features per image of 2048 dimensions \n",
        "model = DetrForObjectDetection(config)\n",
        "feature_extractor = DetrFeatureExtractor.from_pretrained(\"facebook/detr-resnet-50\")"
      ]
    },
    {
      "cell_type": "code",
      "execution_count": null,
      "metadata": {
        "id": "TG-k3do8Tn9T"
      },
      "outputs": [],
      "source": [
        "def create_BU(img):\n",
        "  \n",
        "  image = Image.open(img)\n",
        "  name=os.path.basename(img)[:-4]\n",
        "  inputs = feature_extractor(images=image, return_tensors=\"pt\")\n",
        "  outputs = model(**inputs)\n",
        "  target_sizes = torch.tensor([image.size[::-1]])\n",
        "  results = feature_extractor.post_process(outputs, target_sizes=target_sizes)[0]\n",
        "  dct={}\n",
        "\n",
        "  dct['boxes']=np.array(results['boxes'].tolist())\n",
        "  dct['class']=np.array(results['labels'].tolist())\n",
        "  dct['features']=np.array(outputs['last_hidden_state'].tolist()[0])\n",
        "  dct['scores']=np.array(results['scores'].tolist())\n",
        "  os.chdir('/content/drive/MyDrive/SAS_results') # To store results directly to Gdrive\n",
        "  with open(f'{name}.npy', 'wb') as f:\n",
        "      np.save(f, dct)\n",
        "\n"
      ]
    },
    {
      "cell_type": "code",
      "execution_count": null,
      "metadata": {
        "id": "X2CdeuO1IS1U"
      },
      "outputs": [],
      "source": [
        "from tqdm import tqdm\n",
        "for file in tqdm(glob.glob('/content/images/*')):\n",
        "  create_BU(file)"
      ]
    },
    {
      "cell_type": "markdown",
      "source": [
        "After the BU have been created, copy them to the \"Data_for_SAS\\bottom_up_features_36_info\" folder."
      ],
      "metadata": {
        "id": "kUztZFkv-1Nd"
      }
    },
    {
      "cell_type": "markdown",
      "source": [
        "### **Run the following command in terminal to train the SAS model**\n",
        "---\n",
        "\n"
      ],
      "metadata": {
        "id": "Y1bUMBN6_LyA"
      }
    },
    {
      "cell_type": "code",
      "source": [
        "!python train.py --data_dir Data_for_SAS --save_path output "
      ],
      "metadata": {
        "id": "rnWQfIZB_tbu"
      },
      "execution_count": null,
      "outputs": []
    },
    {
      "cell_type": "markdown",
      "source": [
        "### **Run the following command to evaluate and generate the audios for the test**"
      ],
      "metadata": {
        "id": "Cv1LuWVr_0bm"
      }
    },
    {
      "cell_type": "code",
      "source": [
        "!python train.py --data_dir Data_for_SAS --save_path output --only_val"
      ],
      "metadata": {
        "id": "0Iosymnw_7L1"
      },
      "execution_count": null,
      "outputs": []
    },
    {
      "cell_type": "markdown",
      "metadata": {
        "id": "xhxWGfHFbqf1"
      },
      "source": [
        "# Automatic Speech Recognition (ASR)"
      ]
    },
    {
      "cell_type": "markdown",
      "source": [
        "The generated audio needs to be evaluated for performance using BLEU and METEOR which require texts so we need to convert the generated audio to text for evaluation."
      ],
      "metadata": {
        "id": "bd_DZcQg5eXp"
      }
    },
    {
      "cell_type": "code",
      "execution_count": null,
      "metadata": {
        "id": "l8804lf5BkVA"
      },
      "outputs": [],
      "source": [
        "from transformers import pipeline\n",
        "clss=pipeline(\"automatic-speech-recognition\")"
      ]
    },
    {
      "cell_type": "markdown",
      "source": [
        "Import the generated audio files."
      ],
      "metadata": {
        "id": "VRBqrT8X5_mO"
      }
    },
    {
      "cell_type": "code",
      "execution_count": null,
      "metadata": {
        "id": "6RaiketPhWQn"
      },
      "outputs": [],
      "source": [
        "!unzip Audio_Base.zip\n",
        "!unzip Audio_DETR.zip"
      ]
    },
    {
      "cell_type": "code",
      "execution_count": null,
      "metadata": {
        "id": "c6ISA2XOcPk0"
      },
      "outputs": [],
      "source": [
        "import glob,os\n",
        "audio_res=[]\n",
        "for i in glob.glob('./Audio_Base/*'):\n",
        "  res=clss(i)\n",
        "  audio_res.append([os.path.basename(i),res['text']])"
      ]
    },
    {
      "cell_type": "code",
      "execution_count": null,
      "metadata": {
        "id": "LIDiOz3ai6pd"
      },
      "outputs": [],
      "source": [
        "audio_res=sorted(audio_res,reverse=False)"
      ]
    },
    {
      "cell_type": "markdown",
      "source": [
        "View the generated texts"
      ],
      "metadata": {
        "id": "fN9fXgcA6fIg"
      }
    },
    {
      "cell_type": "code",
      "execution_count": null,
      "metadata": {
        "id": "DywcSEj6fdO1"
      },
      "outputs": [],
      "source": [
        "audio_res "
      ]
    },
    {
      "cell_type": "markdown",
      "metadata": {
        "id": "e8nwpl_l-PRG"
      },
      "source": [
        "# BLEU / METEOR"
      ]
    },
    {
      "cell_type": "code",
      "execution_count": null,
      "metadata": {
        "id": "w6TeX9NlP1Oy"
      },
      "outputs": [],
      "source": [
        "import pickle # The captions.pkl contains only the capions for 100 test texts\n",
        "with open('captions.pkl', 'rb') as f:\n",
        "  original_captions = pickle.load(f)"
      ]
    },
    {
      "cell_type": "code",
      "execution_count": null,
      "metadata": {
        "colab": {
          "base_uri": "https://localhost:8080/"
        },
        "id": "iQdMPSG2fEGI",
        "outputId": "b4dbe15a-15ad-49dd-b394-b16cfcafe690"
      },
      "outputs": [
        {
          "name": "stderr",
          "output_type": "stream",
          "text": [
            "[nltk_data] Downloading package wordnet to /root/nltk_data...\n",
            "[nltk_data] Downloading package omw-1.4 to /root/nltk_data...\n"
          ]
        },
        {
          "data": {
            "text/plain": [
              "True"
            ]
          },
          "execution_count": 9,
          "metadata": {},
          "output_type": "execute_result"
        }
      ],
      "source": [
        "import nltk\n",
        "nltk.download('wordnet')\n",
        "nltk.download('omw-1.4')"
      ]
    },
    {
      "cell_type": "code",
      "execution_count": null,
      "metadata": {
        "colab": {
          "base_uri": "https://localhost:8080/"
        },
        "id": "dMIU1sd_Rf6K",
        "outputId": "40efd96b-afc2-438f-9034-f9aaa4cfa79e"
      },
      "outputs": [
        {
          "name": "stderr",
          "output_type": "stream",
          "text": [
            "/usr/local/lib/python3.7/dist-packages/nltk/translate/bleu_score.py:552: UserWarning: \n",
            "The hypothesis contains 0 counts of 2-gram overlaps.\n",
            "Therefore the BLEU score evaluates to 0, independently of\n",
            "how many N-gram overlaps of lower order it contains.\n",
            "Consider using lower n-gram order or use SmoothingFunction()\n",
            "  warnings.warn(_msg)\n",
            "/usr/local/lib/python3.7/dist-packages/nltk/translate/bleu_score.py:552: UserWarning: \n",
            "The hypothesis contains 0 counts of 3-gram overlaps.\n",
            "Therefore the BLEU score evaluates to 0, independently of\n",
            "how many N-gram overlaps of lower order it contains.\n",
            "Consider using lower n-gram order or use SmoothingFunction()\n",
            "  warnings.warn(_msg)\n",
            "/usr/local/lib/python3.7/dist-packages/nltk/translate/bleu_score.py:552: UserWarning: \n",
            "The hypothesis contains 0 counts of 4-gram overlaps.\n",
            "Therefore the BLEU score evaluates to 0, independently of\n",
            "how many N-gram overlaps of lower order it contains.\n",
            "Consider using lower n-gram order or use SmoothingFunction()\n",
            "  warnings.warn(_msg)\n"
          ]
        }
      ],
      "source": [
        "from nltk.translate.bleu_score import sentence_bleu\n",
        "from nltk.translate.meteor_score import meteor_score\n",
        "BLEU_1,BLEU_2,BLEU_3,BLEU_4,METEOR=[],[],[],[],[]\n",
        "st,en=0,5\n",
        "for candidate in audio_res:\n",
        "  BLEU_1.append(sentence_bleu(original_captions[st:en], candidate[1].split() , weights=(1, 0, 0, 0)))\n",
        "  BLEU_2.append(sentence_bleu(original_captions[st:en], candidate[1].split() , weights=(0, 1, 0, 0)))\n",
        "  BLEU_3.append(sentence_bleu(original_captions[st:en], candidate[1].split() , weights=(0, 0, 1, 0)))\n",
        "  BLEU_4.append(sentence_bleu(original_captions[st:en], candidate[1].split() , weights=(0, 0, 0, 1)))\n",
        "  \n",
        "  METEOR.append(meteor_score(original_captions[st:en], candidate[1].split() ))\n",
        "  st+=5\n",
        "  en+=5"
      ]
    },
    {
      "cell_type": "code",
      "execution_count": null,
      "metadata": {
        "colab": {
          "base_uri": "https://localhost:8080/"
        },
        "id": "Dr3GSZT0gZn1",
        "outputId": "91dc6b9d-33bf-4283-c61f-3320f84ca45b"
      },
      "outputs": [
        {
          "name": "stdout",
          "output_type": "stream",
          "text": [
            "Audio_Base\n",
            "6.944107221797573\n",
            "1.8411425192689353e-306\n",
            "1.8411425192689353e-306\n",
            "1.8411425192689353e-306\n",
            "21.269182534287605\n"
          ]
        }
      ],
      "source": [
        "import numpy as np\n",
        "print(\"Audio_Base\")\n",
        "print(np.mean(BLEU_1)*100)\n",
        "print(np.mean(BLEU_2)*100)\n",
        "print(np.mean(BLEU_3)*100)\n",
        "print(np.mean(BLEU_4)*100)\n",
        "print(np.mean(METEOR)*100)"
      ]
    }
  ],
  "metadata": {
    "colab": {
      "name": "DETR_HF.ipynb",
      "provenance": [],
      "collapsed_sections": []
    },
    "gpuClass": "standard",
    "kernelspec": {
      "display_name": "Python 3",
      "name": "python3"
    },
    "language_info": {
      "name": "python"
    },
    "widgets": {
      "application/vnd.jupyter.widget-state+json": {
        "1850876748eb42be8bfa45842d2f1113": {
          "model_module": "@jupyter-widgets/base",
          "model_module_version": "1.2.0",
          "model_name": "LayoutModel",
          "state": {
            "_model_module": "@jupyter-widgets/base",
            "_model_module_version": "1.2.0",
            "_model_name": "LayoutModel",
            "_view_count": null,
            "_view_module": "@jupyter-widgets/base",
            "_view_module_version": "1.2.0",
            "_view_name": "LayoutView",
            "align_content": null,
            "align_items": null,
            "align_self": null,
            "border": null,
            "bottom": null,
            "display": null,
            "flex": null,
            "flex_flow": null,
            "grid_area": null,
            "grid_auto_columns": null,
            "grid_auto_flow": null,
            "grid_auto_rows": null,
            "grid_column": null,
            "grid_gap": null,
            "grid_row": null,
            "grid_template_areas": null,
            "grid_template_columns": null,
            "grid_template_rows": null,
            "height": null,
            "justify_content": null,
            "justify_items": null,
            "left": null,
            "margin": null,
            "max_height": null,
            "max_width": null,
            "min_height": null,
            "min_width": null,
            "object_fit": null,
            "object_position": null,
            "order": null,
            "overflow": null,
            "overflow_x": null,
            "overflow_y": null,
            "padding": null,
            "right": null,
            "top": null,
            "visibility": null,
            "width": null
          }
        },
        "2116b1d937a74c88a7ce80ca778285f2": {
          "model_module": "@jupyter-widgets/base",
          "model_module_version": "1.2.0",
          "model_name": "LayoutModel",
          "state": {
            "_model_module": "@jupyter-widgets/base",
            "_model_module_version": "1.2.0",
            "_model_name": "LayoutModel",
            "_view_count": null,
            "_view_module": "@jupyter-widgets/base",
            "_view_module_version": "1.2.0",
            "_view_name": "LayoutView",
            "align_content": null,
            "align_items": null,
            "align_self": null,
            "border": null,
            "bottom": null,
            "display": null,
            "flex": null,
            "flex_flow": null,
            "grid_area": null,
            "grid_auto_columns": null,
            "grid_auto_flow": null,
            "grid_auto_rows": null,
            "grid_column": null,
            "grid_gap": null,
            "grid_row": null,
            "grid_template_areas": null,
            "grid_template_columns": null,
            "grid_template_rows": null,
            "height": null,
            "justify_content": null,
            "justify_items": null,
            "left": null,
            "margin": null,
            "max_height": null,
            "max_width": null,
            "min_height": null,
            "min_width": null,
            "object_fit": null,
            "object_position": null,
            "order": null,
            "overflow": null,
            "overflow_x": null,
            "overflow_y": null,
            "padding": null,
            "right": null,
            "top": null,
            "visibility": null,
            "width": null
          }
        },
        "39a3cc28da45418185515d1896577091": {
          "model_module": "@jupyter-widgets/controls",
          "model_module_version": "1.5.0",
          "model_name": "HTMLModel",
          "state": {
            "_dom_classes": [],
            "_model_module": "@jupyter-widgets/controls",
            "_model_module_version": "1.5.0",
            "_model_name": "HTMLModel",
            "_view_count": null,
            "_view_module": "@jupyter-widgets/controls",
            "_view_module_version": "1.5.0",
            "_view_name": "HTMLView",
            "description": "",
            "description_tooltip": null,
            "layout": "IPY_MODEL_1850876748eb42be8bfa45842d2f1113",
            "placeholder": "​",
            "style": "IPY_MODEL_80490682e3234693bdc99ed6e99bab6a",
            "value": " 274/274 [00:00&lt;00:00, 3.21kB/s]"
          }
        },
        "80490682e3234693bdc99ed6e99bab6a": {
          "model_module": "@jupyter-widgets/controls",
          "model_module_version": "1.5.0",
          "model_name": "DescriptionStyleModel",
          "state": {
            "_model_module": "@jupyter-widgets/controls",
            "_model_module_version": "1.5.0",
            "_model_name": "DescriptionStyleModel",
            "_view_count": null,
            "_view_module": "@jupyter-widgets/base",
            "_view_module_version": "1.2.0",
            "_view_name": "StyleView",
            "description_width": ""
          }
        },
        "858237b564ff4d47b5187dfba4e63c29": {
          "model_module": "@jupyter-widgets/controls",
          "model_module_version": "1.5.0",
          "model_name": "ProgressStyleModel",
          "state": {
            "_model_module": "@jupyter-widgets/controls",
            "_model_module_version": "1.5.0",
            "_model_name": "ProgressStyleModel",
            "_view_count": null,
            "_view_module": "@jupyter-widgets/base",
            "_view_module_version": "1.2.0",
            "_view_name": "StyleView",
            "bar_color": null,
            "description_width": ""
          }
        },
        "8cf8177c46604865af50cd906ac1023b": {
          "model_module": "@jupyter-widgets/controls",
          "model_module_version": "1.5.0",
          "model_name": "HBoxModel",
          "state": {
            "_dom_classes": [],
            "_model_module": "@jupyter-widgets/controls",
            "_model_module_version": "1.5.0",
            "_model_name": "HBoxModel",
            "_view_count": null,
            "_view_module": "@jupyter-widgets/controls",
            "_view_module_version": "1.5.0",
            "_view_name": "HBoxView",
            "box_style": "",
            "children": [
              "IPY_MODEL_a8d05227e47d4a10a60d49535a742df7",
              "IPY_MODEL_e6b48c602b5e436bbb9829ade6b0e1af",
              "IPY_MODEL_39a3cc28da45418185515d1896577091"
            ],
            "layout": "IPY_MODEL_ce91fe3362b44fefaecadca4c8dabb2d"
          }
        },
        "a826be6be2734d699adc72735df1997c": {
          "model_module": "@jupyter-widgets/controls",
          "model_module_version": "1.5.0",
          "model_name": "DescriptionStyleModel",
          "state": {
            "_model_module": "@jupyter-widgets/controls",
            "_model_module_version": "1.5.0",
            "_model_name": "DescriptionStyleModel",
            "_view_count": null,
            "_view_module": "@jupyter-widgets/base",
            "_view_module_version": "1.2.0",
            "_view_name": "StyleView",
            "description_width": ""
          }
        },
        "a8d05227e47d4a10a60d49535a742df7": {
          "model_module": "@jupyter-widgets/controls",
          "model_module_version": "1.5.0",
          "model_name": "HTMLModel",
          "state": {
            "_dom_classes": [],
            "_model_module": "@jupyter-widgets/controls",
            "_model_module_version": "1.5.0",
            "_model_name": "HTMLModel",
            "_view_count": null,
            "_view_module": "@jupyter-widgets/controls",
            "_view_module_version": "1.5.0",
            "_view_name": "HTMLView",
            "description": "",
            "description_tooltip": null,
            "layout": "IPY_MODEL_baefc4e34439473b917f53f64a8085e7",
            "placeholder": "​",
            "style": "IPY_MODEL_a826be6be2734d699adc72735df1997c",
            "value": "Downloading: 100%"
          }
        },
        "baefc4e34439473b917f53f64a8085e7": {
          "model_module": "@jupyter-widgets/base",
          "model_module_version": "1.2.0",
          "model_name": "LayoutModel",
          "state": {
            "_model_module": "@jupyter-widgets/base",
            "_model_module_version": "1.2.0",
            "_model_name": "LayoutModel",
            "_view_count": null,
            "_view_module": "@jupyter-widgets/base",
            "_view_module_version": "1.2.0",
            "_view_name": "LayoutView",
            "align_content": null,
            "align_items": null,
            "align_self": null,
            "border": null,
            "bottom": null,
            "display": null,
            "flex": null,
            "flex_flow": null,
            "grid_area": null,
            "grid_auto_columns": null,
            "grid_auto_flow": null,
            "grid_auto_rows": null,
            "grid_column": null,
            "grid_gap": null,
            "grid_row": null,
            "grid_template_areas": null,
            "grid_template_columns": null,
            "grid_template_rows": null,
            "height": null,
            "justify_content": null,
            "justify_items": null,
            "left": null,
            "margin": null,
            "max_height": null,
            "max_width": null,
            "min_height": null,
            "min_width": null,
            "object_fit": null,
            "object_position": null,
            "order": null,
            "overflow": null,
            "overflow_x": null,
            "overflow_y": null,
            "padding": null,
            "right": null,
            "top": null,
            "visibility": null,
            "width": null
          }
        },
        "ce91fe3362b44fefaecadca4c8dabb2d": {
          "model_module": "@jupyter-widgets/base",
          "model_module_version": "1.2.0",
          "model_name": "LayoutModel",
          "state": {
            "_model_module": "@jupyter-widgets/base",
            "_model_module_version": "1.2.0",
            "_model_name": "LayoutModel",
            "_view_count": null,
            "_view_module": "@jupyter-widgets/base",
            "_view_module_version": "1.2.0",
            "_view_name": "LayoutView",
            "align_content": null,
            "align_items": null,
            "align_self": null,
            "border": null,
            "bottom": null,
            "display": null,
            "flex": null,
            "flex_flow": null,
            "grid_area": null,
            "grid_auto_columns": null,
            "grid_auto_flow": null,
            "grid_auto_rows": null,
            "grid_column": null,
            "grid_gap": null,
            "grid_row": null,
            "grid_template_areas": null,
            "grid_template_columns": null,
            "grid_template_rows": null,
            "height": null,
            "justify_content": null,
            "justify_items": null,
            "left": null,
            "margin": null,
            "max_height": null,
            "max_width": null,
            "min_height": null,
            "min_width": null,
            "object_fit": null,
            "object_position": null,
            "order": null,
            "overflow": null,
            "overflow_x": null,
            "overflow_y": null,
            "padding": null,
            "right": null,
            "top": null,
            "visibility": null,
            "width": null
          }
        },
        "e6b48c602b5e436bbb9829ade6b0e1af": {
          "model_module": "@jupyter-widgets/controls",
          "model_module_version": "1.5.0",
          "model_name": "FloatProgressModel",
          "state": {
            "_dom_classes": [],
            "_model_module": "@jupyter-widgets/controls",
            "_model_module_version": "1.5.0",
            "_model_name": "FloatProgressModel",
            "_view_count": null,
            "_view_module": "@jupyter-widgets/controls",
            "_view_module_version": "1.5.0",
            "_view_name": "ProgressView",
            "bar_style": "success",
            "description": "",
            "description_tooltip": null,
            "layout": "IPY_MODEL_2116b1d937a74c88a7ce80ca778285f2",
            "max": 274,
            "min": 0,
            "orientation": "horizontal",
            "style": "IPY_MODEL_858237b564ff4d47b5187dfba4e63c29",
            "value": 274
          }
        }
      }
    }
  },
  "nbformat": 4,
  "nbformat_minor": 0
}